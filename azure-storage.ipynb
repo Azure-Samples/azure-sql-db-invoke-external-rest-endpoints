{
    "cells": [
        {
            "attachments": {},
            "cell_type": "markdown",
            "metadata": {
                "azdata_cell_guid": "3f79ad9b-7872-479a-9813-26e34e49ba4f"
            },
            "source": [
                "# Work with Azure Blob Storage\n",
                "\n",
                "To start, ensure that you have a Azure Blob Storage account. Reference the documentation on how to create a storage account if needed. [Create a storage account](https://learn.microsoft.com/azure/storage/common/storage-account-create?tabs=azure-portal)\n",
                "\n",
                "Also, have a container created in the Azure Blob Storage account. You can use this quick-start to help guide you in creating a container. [Quickstart: Upload, download, and list blobs with the Azure portal](https://learn.microsoft.com/azure/storage/blobs/storage-quickstart-blobs-portal)\n",
                "\n",
                "Blob Storage REST endpoint are documented here: [Azure Blob Storage REST API](https://learn.microsoft.com/rest/api/storageservices/blob-service-rest-api). \n",
                "The samples use the [Get Blob](https://learn.microsoft.com/rest/api/storageservices/get-blob?tabs=azure-ad), [Put Blob](https://learn.microsoft.com/en-us/rest/api/storageservices/put-blob?tabs=azure-ad), and the (Create Container)[https://learn.microsoft.com/rest/api/storageservices/create-container?tabs=azure-ad] APIs.\n",
                "\n",
                "The following samples assume that there is an Azure Blob Storage Account deployed at `https://blobby.blob.core.windows.net/` and a container named `myblobs`. To have the samples working in your environment, make sure adjust URL and container name so that they will match your account."
            ]
        },
        {
            "attachments": {},
            "cell_type": "markdown",
            "metadata": {
                "azdata_cell_guid": "ad7d9205-5d90-47aa-916a-56f9378a9fcc"
            },
            "source": [
                "## Work with files in Azure Blob Storage using a SAS Token\n",
                "\n",
                "Only authenticated requests can send events to Event Hubs. One way to authenticate a request is to provide a Shared Access Signature token: \n",
                "- [Authorizing access to Event Hubs resources using Shared Access Signatures](https://learn.microsoft.com/en-us/azure/event-hubs/authorize-access-shared-access-signature)\n",
                "- [Generate SAS token](https://learn.microsoft.com/en-us/rest/api/eventhub/generate-sas-token). \n",
                "\n",
                "At the moment is not possible to generate a SAS token directly from Azure SQL database, but you can put the code for generating such a token in an Azure Function and call it from Azure SQL database using `sp_invoke_external_rest_point` as well.\n",
                "\n",
                "Once you have the token you can add it into a Database Scoped Credential:"
            ]
        },
        {
            "cell_type": "code",
            "execution_count": null,
            "metadata": {
                "azdata_cell_guid": "3fdacfa3-b5ac-4c3a-8cd3-e77f287cd992",
                "language": "sql",
                "tags": []
            },
            "outputs": [],
            "source": [
                "-- make sure a database master key exists\n",
                "if not exists(select * from sys.symmetric_keys where [name] = '##MS_DatabaseMasterKey##') begin\n",
                "    create master key encryption by password = 'LONg_Pa$$_w0rd!'\n",
                "end\n",
                "\n",
                "-- create database scoped credential\n",
                "create database scoped credential [https://azure-event-hubs.servicebus.windows.net]\n",
                "with identity = 'HTTPEndpointHeaders', \n",
                "secret = '{\"Authorization\": \"SharedAccessSignature sr=azure-event-hubs.servicebus.windows.net%2fmyeventhub&sig=RVDJM1cSo71j73%2bWR0t7ZCZukIjMEvBn%2bWWqSlqkJeM%3d&se=1697310598&skn=RootManageSharedAccessKey\"}';"
            ]
        },
        {
            "attachments": {},
            "cell_type": "markdown",
            "metadata": {
                "azdata_cell_guid": "5e6e4469-209d-4946-9546-a6acd793b82a"
            },
            "source": [
                "You can then send messages to Event Hubs using the \"Send Event\" API, which is available at `https://azure-event-hubs.servicebus.windows.net/myeventhub/messages` :"
            ]
        },
        {
            "cell_type": "code",
            "execution_count": null,
            "metadata": {
                "azdata_cell_guid": "a87411a4-84c5-493d-9a84-dea4eeffa98b",
                "language": "sql",
                "tags": []
            },
            "outputs": [],
            "source": [
                "declare @payload nvarchar(max) = '{\"UserId\": \"6C5E29A2-A5E7-449D-BD14-259D61ADC6BE\", \"FirstName\": \"John\", \"LastName\": \"Doe\"}';\n",
                "declare @headers nvarchar(4000) = N'{\"BrokerProperties\": \"' + string_escape('{\"PartitionKey\": \"6C5E29A2-A5E7-449D-BD14-259D61ADC6BE\"}', 'json') + '\"}'\n",
                "declare @ret int, @response nvarchar(max)\n",
                "\n",
                "exec @ret = sp_invoke_external_rest_endpoint \n",
                "        @url = 'https://azure-event-hubs.servicebus.windows.net/myeventhub/messages',\n",
                "        @headers = @headers,\n",
                "        @payload = @payload,\n",
                "\t\t@credential = [https://azure-event-hubs.servicebus.windows.net],\n",
                "        @response = @response output;\n",
                "\n",
                "select @response;"
            ]
        },
        {
            "attachments": {},
            "cell_type": "markdown",
            "metadata": {
                "azdata_cell_guid": "0afadd91-d62b-4d30-80d2-b7f0c14753ec"
            },
            "source": [
                "## Send Events using Managed Identities\n",
                "\n",
                "Follow the instructions here: [Enable Managed Identity in Azure SQL](./azure-sql-enable-msi.ipynb) to make sure you have Managed Identity enabled for your Azure SQL database, and then check how to grant to right permission on Event Hubs to the Azure SQL Manage Identity, following the instructions here: [Grant permissions to a managed identity in Azure AD](https://learn.microsoft.com/azure/event-hubs/authenticate-managed-identity?tabs=latest#grant-permissions-to-a-managed-identity-in-azure-ad).\n",
                "\n",
                "Once that is done you just need to create a Database Scoped Credentials with the string `Managed Identity` as identity and `https://eventhubs.azure.net` as the `resourceid`:"
            ]
        },
        {
            "cell_type": "code",
            "execution_count": null,
            "metadata": {
                "azdata_cell_guid": "8a8775d3-73cf-4e7b-a0d4-82d707c611f8",
                "language": "sql"
            },
            "outputs": [],
            "source": [
                "-- make sure a database master key exists\n",
                "if not exists(select * from sys.symmetric_keys where [name] = '##MS_DatabaseMasterKey##') begin\n",
                "    create master key encryption by password = 'LONg_Pa$$_w0rd!'\n",
                "end\n",
                "\n",
                "-- create database scoped credential\n",
                "if exists(select * from sys.database_scoped_credentials where [name] = 'https://azure-event-hubs.servicebus.windows.net') begin\n",
                "    drop database scoped credential [https://azure-event-hubs.servicebus.windows.net];\n",
                "end;\n",
                "create database scoped credential [https://azure-event-hubs.servicebus.windows.net]\n",
                "with identity = 'Managed Identity', \n",
                "secret = '{\"resourceid\": \"https://eventhubs.azure.net\" }';"
            ]
        },
        {
            "attachments": {},
            "cell_type": "markdown",
            "metadata": {
                "azdata_cell_guid": "59fb3012-317e-4aba-a59e-d4f97efea998"
            },
            "source": [
                "Once this is done you can send the message using the same code as before:"
            ]
        },
        {
            "cell_type": "code",
            "execution_count": null,
            "metadata": {
                "azdata_cell_guid": "823b7c9d-0d13-4e45-914a-7c322db9bafe",
                "language": "sql"
            },
            "outputs": [],
            "source": [
                "declare @payload nvarchar(max) = '{\"UserId\": \"6C5E29A2-A5E7-449D-BD14-259D61ADC6BE\", \"FirstName\": \"John\", \"LastName\": \"Doe\"}';\n",
                "declare @headers nvarchar(4000) = N'{\"BrokerProperties\": \"' + string_escape('{\"PartitionKey\": \"6C5E29A2-A5E7-449D-BD14-259D61ADC6BE\"}', 'json') + '\"}'\n",
                "declare @ret int, @response nvarchar(max)\n",
                "\n",
                "exec @ret = sp_invoke_external_rest_endpoint \n",
                "        @url = 'https://azure-event-hubs.servicebus.windows.net/myeventhub/messages',\n",
                "        @headers = @headers,\n",
                "        @payload = @payload,\n",
                "\t\t@credential = [https://azure-event-hubs.servicebus.windows.net],\n",
                "        @response = @response output;\n",
                "\n",
                "select @response;"
            ]
        }
    ],
    "metadata": {
        "kernelspec": {
            "display_name": "SQL",
            "language": "sql",
            "name": "SQL"
        },
        "language_info": {
            "name": "sql",
            "version": ""
        }
    },
    "nbformat": 4,
    "nbformat_minor": 2
}
