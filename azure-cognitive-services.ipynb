{
    "metadata": {
        "kernelspec": {
            "name": "SQL",
            "display_name": "SQL",
            "language": "sql"
        },
        "language_info": {
            "name": "sql",
            "version": ""
        }
    },
    "nbformat_minor": 2,
    "nbformat": 4,
    "cells": [
        {
            "cell_type": "markdown",
            "source": [
                "# Call an Azure Cognitive Services\n",
                "\n",
                "Make sure to have an Azure Cognitive Service Anomaly Detector running. [Create an Anomaly Detector resource](https://portal.azure.com/#create/Microsoft.CognitiveServicesAnomalyDetector) in the Azure portal to get your key and endpoint. Wait for it to deploy and select the Go to resource button. You can use the free pricing tier (F0) to try the service, and upgrade later to a paid tier for production. For more details please refer to the documentation here: [Anomaly Detector API Documentation](https://learn.microsoft.com/en-us/azure/cognitive-services/anomaly-detector/)\n",
                "\n",
                "In the next samples is assumed that the Anomaly Detector's endpoint is available at `https://azure-sql-anomaly-detector.cognitiveservices.azure.com/`. To have the samples working in your environment make sure to use the endpoint of your Anomaly Detector"
            ],
            "metadata": {
                "azdata_cell_guid": "cba5ef59-eaf6-468e-9e78-6281339299df"
            },
            "attachments": {}
        },
        {
            "cell_type": "markdown",
            "source": [
                "## Load sample data"
            ],
            "metadata": {
                "azdata_cell_guid": "efd662c7-6f56-49b3-8c4d-dab1f013ea74"
            },
            "attachments": {}
        },
        {
            "cell_type": "markdown",
            "source": [
                "## Securely store the API Key"
            ],
            "metadata": {
                "azdata_cell_guid": "941d1c14-daad-4ab6-8591-2efdfeb46f44"
            },
            "attachments": {}
        },
        {
            "cell_type": "markdown",
            "source": [
                "## Use `OPENJSON` to shape the JSON document as requested by Cognitive Services"
            ],
            "metadata": {
                "azdata_cell_guid": "61155428-6203-4a3d-a13f-03fafb71fc98"
            },
            "attachments": {}
        },
        {
            "cell_type": "markdown",
            "source": [
                "## Invoke Anomaly Detector's API from Azure SQL"
            ],
            "metadata": {
                "azdata_cell_guid": "8b15e26b-4f9e-449f-9ed3-3e6af6396176"
            },
            "attachments": {}
        },
        {
            "cell_type": "markdown",
            "source": [
                "## Join result with stored data to identify anomalies"
            ],
            "metadata": {
                "azdata_cell_guid": "d48993a2-9cc2-4aa2-b7b4-692773b6aecb"
            }
        }
    ]
}